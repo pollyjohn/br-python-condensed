{
  "nbformat": 4,
  "nbformat_minor": 0,
  "metadata": {
    "colab": {
      "name": "testes/ideias",
      "provenance": [],
      "collapsed_sections": [],
      "authorship_tag": "ABX9TyOb6/JcjMb9APtDX8YT+S6x",
      "include_colab_link": true
    },
    "kernelspec": {
      "name": "python3",
      "display_name": "Python 3"
    },
    "language_info": {
      "name": "python"
    }
  },
  "cells": [
    {
      "cell_type": "markdown",
      "metadata": {
        "id": "view-in-github",
        "colab_type": "text"
      },
      "source": [
        "<a href=\"https://colab.research.google.com/github/pollyjohn/br-python-condensed/blob/main/testes_ideias.ipynb\" target=\"_parent\"><img src=\"https://colab.research.google.com/assets/colab-badge.svg\" alt=\"Open In Colab\"/></a>"
      ]
    },
    {
      "cell_type": "code",
      "metadata": {
        "id": "i4R7Y7HRkU6q"
      },
      "source": [
        ""
      ],
      "execution_count": null,
      "outputs": []
    },
    {
      "cell_type": "code",
      "metadata": {
        "id": "lOgmVG55nhSC"
      },
      "source": [
        "x = 15\n",
        "y = 15"
      ],
      "execution_count": null,
      "outputs": []
    },
    {
      "cell_type": "code",
      "metadata": {
        "colab": {
          "base_uri": "https://localhost:8080/"
        },
        "id": "ahVvubhZN0C9",
        "outputId": "39636e4f-7cba-47e4-bb32-bc81735f67b6"
      },
      "source": [
        "x == y \n"
      ],
      "execution_count": null,
      "outputs": [
        {
          "output_type": "execute_result",
          "data": {
            "text/plain": [
              "True"
            ]
          },
          "metadata": {
            "tags": []
          },
          "execution_count": 2
        }
      ]
    },
    {
      "cell_type": "markdown",
      "metadata": {
        "id": "sGcQvn6smDzT"
      },
      "source": [
        "** aplicando IF AND, ELIF, ELSE **"
      ]
    },
    {
      "cell_type": "code",
      "metadata": {
        "colab": {
          "base_uri": "https://localhost:8080/"
        },
        "id": "QLUEMAB1nOD7",
        "outputId": "a78b850c-9758-4d6c-ce21-7579ce4101ee"
      },
      "source": [
        "if  x == y and type(x) == type(y):\n",
        "   print('são o mesmo tipo de dado mas não são iguais')\n",
        "elif type(x) == type(y):\n",
        "  print('o tipo de dados é o mesmo')\n",
        "elif x == y:\n",
        "  print ('true')\n",
        "\n"
      ],
      "execution_count": 3,
      "outputs": [
        {
          "output_type": "stream",
          "text": [
            "são o mesmo tipo de dado mas não são iguais\n"
          ],
          "name": "stdout"
        }
      ]
    },
    {
      "cell_type": "code",
      "metadata": {
        "id": "isvFuDXktSkp"
      },
      "source": [
        "def passou_():  # interesasnte notar as relações entre if e elif. if tem prioridade sobre elif. elif só é chamado quando if não é\n",
        "#de modo algum;\n",
        "#se todos os if forem satisfeitos eles serão ecuatdo juntamente;\n",
        "  nota1 = input('qual foi sua nota?')\n",
        "  nota2 = input('qual foi sua nota?')\n",
        "  resultado_final = (int(nota1)+int(nota2))/2\n",
        "  if resultado_final == 10:\n",
        "    print(\"aprovado com distinção\")\n",
        "  elif resultado_final >= 7:\n",
        "    print('aprovado')\n",
        "  else:\n",
        "    print(\"reprovado\")"
      ],
      "execution_count": 30,
      "outputs": []
    },
    {
      "cell_type": "code",
      "metadata": {
        "colab": {
          "base_uri": "https://localhost:8080/"
        },
        "id": "8nxe_uOZi9tJ",
        "outputId": "99e84bd0-3cbe-4acc-98f0-e8f165417cfb"
      },
      "source": [
        "passou_()"
      ],
      "execution_count": 33,
      "outputs": [
        {
          "output_type": "stream",
          "text": [
            "qual foi sua nota?5\n",
            "qual foi sua nota?7\n",
            "reprovado\n"
          ],
          "name": "stdout"
        }
      ]
    },
    {
      "cell_type": "markdown",
      "metadata": {
        "id": "KtoBFHChjJBV"
      },
      "source": [
        "**FUNÇÃO FOR IN**"
      ]
    },
    {
      "cell_type": "code",
      "metadata": {
        "colab": {
          "base_uri": "https://localhost:8080/"
        },
        "id": "Vpij4y4whpW8",
        "outputId": "44788763-2589-452c-9b76-dea22d950d7d"
      },
      "source": [
        "lista = [1,2,16,67,'casa']  #função for in por si só é associavel à outras partes do COD;\n",
        "for i in lista:\n",
        "  print(i)"
      ],
      "execution_count": null,
      "outputs": [
        {
          "output_type": "stream",
          "text": [
            "1\n",
            "2\n",
            "16\n",
            "67\n",
            "casa\n"
          ],
          "name": "stdout"
        }
      ]
    },
    {
      "cell_type": "markdown",
      "metadata": {
        "id": "sdAY2wmOjefY"
      },
      "source": [
        "**FUNÇÃO FOR IN RANGE**"
      ]
    },
    {
      "cell_type": "code",
      "metadata": {
        "colab": {
          "base_uri": "https://localhost:8080/"
        },
        "id": "INj4um3zHcRm",
        "outputId": "22362b13-d2a3-46c5-9649-cad6785dd557"
      },
      "source": [
        "for n in range(1,30,10): # a função for i in range é excludente das linhas anteriores.\n",
        "  print(n)                  "
      ],
      "execution_count": null,
      "outputs": [
        {
          "output_type": "stream",
          "text": [
            "1\n",
            "11\n",
            "21\n"
          ],
          "name": "stdout"
        }
      ]
    },
    {
      "cell_type": "markdown",
      "metadata": {
        "id": "0jbhzQpUj4XU"
      },
      "source": [
        "**APLICANDO FUNÇÃO WHILE TRUE**"
      ]
    },
    {
      "cell_type": "markdown",
      "metadata": {
        "id": "KOUJETl_ktIH"
      },
      "source": [
        "na operação while é feita uma pesquisa por projeção ou emprestimo de argumentos. \n",
        "  #pagina_vazia = []\n",
        "**  #pagina_vazia = []  **  logo, na primeira linha da operação setamos o objetivo da pesquisa como uma variavel. nesse caso usamos algma propriedade que conhecemos do objetivo  para podermos fazer a caça. nesse caso procuramos uma lista que é VAZIA;\n",
        "  #paginastart_do_loop = 0\n",
        "**  #paginastart_do_loop = 0  **\n",
        " apos setar o objetivo como uma variavel setamos o index correpondente do objeto inicial do 'ambiente' a ser pesquisado  como uma variavel para conseguirmos introduzilo na operação, uma vez que o while True não aceita intergers e floats ( esse seria o caso do range);\n",
        "  **  #while True  **\n",
        "  então abrimos o loop.\n",
        "  OBS's:\n",
        "  **  #variavel_atualizavel = lista_de_listas[paginastart_do_loop]  **\n",
        "como nossa primeira ação dentro do loop, setamos como uma variavel os objetos de nosso ambiente de pesquisa. fazemos isso atrelando cada objeto que pretendemos usar de nossa ambinte de pesquisa a partir do primeiro que será usado ( podemos ignorar objetos e apatir de um mais proveitoso) à variavel a  e destacar o primeiro que vai ser utilizado.\n",
        "  Essa variável agora criada é o mesmo que o próprio loop porque essa variavel vai estar se tranformando em cada um dos objetos;\n",
        " \n",
        "  **if variavel_atualizavel == [ ]:  **\n",
        "  #break\n",
        "  #pagina_vazia.append(variavel_atualizavel)\n",
        "Após criar o loop setamos a condição de satisfação que interromperá o loop e colocamos que o processo deve parar ( break) se ela for satisfeita. Ele será seguido da ação de output;\n",
        "no caso da tentativa de encontrar a página vazia nos pedimos para ser feito o append de todas as paginas anterios dentro da que está vazia e então podemos ver qual é a ultima antes da que procuramos e todas as anteriores, revelando assim a posição dessa vazia.\n",
        "  #paginastart_do_loop = paginastart_do_loop+1\n",
        "  Mas se realmente não queremos que o loop seja infinito precisamos dizer ao programo que o processo é progressivo mesmo tendo sido informado na  criação do loop no passo 4 que o a variavel_atualizavel é zero. ou seja: se não fosse informado mais nada ao programa o loop seria incorrer vez após vez no objeto de index igual à 0.\n",
        "  então na ultima linha a ser lida pelo programa antes dele retornar ao index 0 nós informamos que a paginastart_do_loop  sofrerá a cada termino da leitura da função o acrescimo de +1 em seu index\n"
      ]
    },
    {
      "cell_type": "code",
      "metadata": {
        "id": "TosFWvjgkMPh"
      },
      "source": [
        "lista_de_listas = [[1,2,3],[4,5,6],[6,6,6],[],['arroz']]"
      ],
      "execution_count": 34,
      "outputs": []
    },
    {
      "cell_type": "code",
      "metadata": {
        "id": "A6BW2QwGkTCh"
      },
      "source": [
        "pagina_vazia = []                                #me parece que essa estrutura trabalha sobre a quali\n",
        "paginastart_do_loop = 0                          #dade de projeção e não especificamente da reprodução real uma vez \n",
        "while True:                                      #que se trata apenas uma \"pesquisa\" e não de uma operação na pró\n",
        "  variavel_atualizavel = lista_de_listas[paginastart_do_loop]       #pria lista. podesse notar isso \n",
        "  if variavel_atualizavel == []:\n",
        "    break\n",
        "  pagina_vazia.append(variavel_atualizavel)\n",
        "  paginastart_do_loop=paginastart_do_loop+1"
      ],
      "execution_count": 35,
      "outputs": []
    },
    {
      "cell_type": "code",
      "metadata": {
        "colab": {
          "base_uri": "https://localhost:8080/"
        },
        "id": "FaPq4LFqkaOg",
        "outputId": "d4658d73-6809-4202-b1e4-f7a7ddc64597"
      },
      "source": [
        "pagina_vazia = []                        \n",
        "paginastart_do_loop = 1                   \n",
        "while True:                                     \n",
        "  index_atualizavel = lista_de_listas[paginastart_do_loop]      \n",
        "  if index_atualizavel == []:\n",
        "    break\n",
        "  print('havvana')\n",
        "  pagina_vazia.append(index_atualizavel)\n",
        "  paginastart_do_loop=paginastart_do_loop+1"
      ],
      "execution_count": 43,
      "outputs": [
        {
          "output_type": "stream",
          "text": [
            "havvana\n",
            "havvana\n"
          ],
          "name": "stdout"
        }
      ]
    },
    {
      "cell_type": "code",
      "metadata": {
        "colab": {
          "base_uri": "https://localhost:8080/"
        },
        "id": "3N-Ff_iVkkTK",
        "outputId": "33b5b0f8-6866-4b4e-856c-8aa79afeceee"
      },
      "source": [
        "pagina_vazia"
      ],
      "execution_count": 44,
      "outputs": [
        {
          "output_type": "execute_result",
          "data": {
            "text/plain": [
              "[[4, 5, 6], [6, 6, 6]]"
            ]
          },
          "metadata": {
            "tags": []
          },
          "execution_count": 44
        }
      ]
    }
  ]
}