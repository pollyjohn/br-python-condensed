{
  "nbformat": 4,
  "nbformat_minor": 0,
  "metadata": {
    "colab": {
      "name": "função calculo IMC",
      "provenance": [],
      "collapsed_sections": [],
      "include_colab_link": true
    },
    "kernelspec": {
      "name": "python3",
      "display_name": "Python 3"
    }
  },
  "cells": [
    {
      "cell_type": "markdown",
      "metadata": {
        "id": "view-in-github",
        "colab_type": "text"
      },
      "source": [
        "<a href=\"https://colab.research.google.com/github/pollyjohn/br-python-condensed/blob/main/fun%C3%A7%C3%A3o_calculo_IMC.ipynb\" target=\"_parent\"><img src=\"https://colab.research.google.com/assets/colab-badge.svg\" alt=\"Open In Colab\"/></a>"
      ]
    },
    {
      "cell_type": "markdown",
      "metadata": {
        "id": "8YqaSZgXYJ5g"
      },
      "source": [
        "![](https://i.imgur.com/YX6UATs.png)\n"
      ]
    },
    {
      "cell_type": "markdown",
      "metadata": {
        "id": "hhUVzDipaGb9"
      },
      "source": [
        "### **Exercícios de Python - 1** \n",
        "\n",
        "\n",
        "\n"
      ]
    },
    {
      "cell_type": "markdown",
      "metadata": {
        "id": "qMGp-h8OaGqr"
      },
      "source": [
        "1 - Faça um programa, com uma função que necessite de três argumentos, e que forneça a soma desses três argumentos."
      ]
    },
    {
      "cell_type": "code",
      "metadata": {
        "id": "ne27Oh7t7s9d"
      },
      "source": [
        "def calcula_imc():\n",
        "  nome = input('olá. Para começarmos, qual é seu nome?')\n",
        "  altura = input('qual é sua altura? use ponto para adicionar casas decimais')\n",
        "  peso = input('qual é seu peso? use ponto para adicionar casas decimais')\n",
        "  imc = float(peso)/float(altura)**2\n",
        "  rounded_imc = round(imc,2)\n",
        "  return f'olá {nome}, seu imc é de {rounded_imc}'"
      ],
      "execution_count": 112,
      "outputs": []
    },
    {
      "cell_type": "code",
      "metadata": {
        "colab": {
          "base_uri": "https://localhost:8080/"
        },
        "id": "ShZw28h5VC-0",
        "outputId": "e72d1561-62ce-4f7b-ac15-a69c94f6ae7f"
      },
      "source": [
        "imc_joao = calcula_imc()"
      ],
      "execution_count": 113,
      "outputs": [
        {
          "output_type": "stream",
          "text": [
            "olá. Para começarmos, qual é seu nome?jabiroca\n",
            "qual é sua altura? use ponto para adicionar casas decimais1.70\n",
            "qual é seu peso? use ponto para adicionar casas decimais67.0\n"
          ],
          "name": "stdout"
        }
      ]
    },
    {
      "cell_type": "code",
      "metadata": {
        "colab": {
          "base_uri": "https://localhost:8080/",
          "height": 35
        },
        "id": "_q1iYAh8YnJh",
        "outputId": "fbcdb29b-310e-4fdb-9c8f-b454fc57a08d"
      },
      "source": [
        "imc_joao"
      ],
      "execution_count": 114,
      "outputs": [
        {
          "output_type": "execute_result",
          "data": {
            "application/vnd.google.colaboratory.intrinsic+json": {
              "type": "string"
            },
            "text/plain": [
              "'olá jabiroca, seu imc é de 23.18'"
            ]
          },
          "metadata": {
            "tags": []
          },
          "execution_count": 114
        }
      ]
    },
    {
      "cell_type": "code",
      "metadata": {
        "colab": {
          "base_uri": "https://localhost:8080/",
          "height": 35
        },
        "id": "BM16Mrn9aX2_",
        "outputId": "7679cf1c-956e-4a47-f052-e78457f47b78"
      },
      "source": [
        "imc_joao"
      ],
      "execution_count": 111,
      "outputs": [
        {
          "output_type": "execute_result",
          "data": {
            "application/vnd.google.colaboratory.intrinsic+json": {
              "type": "string"
            },
            "text/plain": [
              "'olá, seu imc é de 20.76'"
            ]
          },
          "metadata": {
            "tags": []
          },
          "execution_count": 111
        }
      ]
    },
    {
      "cell_type": "markdown",
      "metadata": {
        "id": "VNKvSoUUWpSk"
      },
      "source": [
        "60.0\n",
        "1.70"
      ]
    },
    {
      "cell_type": "markdown",
      "metadata": {
        "id": "KdLXZftIaG60"
      },
      "source": [
        "2 - Faça um Programa que peça a temperatura em graus Celsius, transforme e mostre em graus Fahrenheit. \\\n",
        "*Dica: procure a fórmula para essa conversão na internet*"
      ]
    },
    {
      "cell_type": "code",
      "metadata": {
        "id": "MNINJ32eU45M"
      },
      "source": [
        "teste2"
      ],
      "execution_count": null,
      "outputs": []
    },
    {
      "cell_type": "markdown",
      "metadata": {
        "id": "4OETBVgmaGzX"
      },
      "source": [
        "3 - Faça um Programa que peça um número inteiro e determine se ele é par ou impar. Dica: utilize o operador módulo (resto da divisão)."
      ]
    },
    {
      "cell_type": "code",
      "metadata": {
        "id": "WbzCimFZVSr1"
      },
      "source": [
        "teste3 - Versão modificada"
      ],
      "execution_count": null,
      "outputs": []
    },
    {
      "cell_type": "markdown",
      "metadata": {
        "id": "7zPJ8sgPaGw0"
      },
      "source": [
        "4 - Faça um programa que peça o tamanho de um arquivo para download (em MB) e a velocidade de um link de Internet (em Mbps), calcule e informe o tempo aproximado de download do arquivo usando este link (em minutos)."
      ]
    },
    {
      "cell_type": "code",
      "metadata": {
        "id": "l4qtSxU7XquB"
      },
      "source": [
        ""
      ],
      "execution_count": null,
      "outputs": []
    },
    {
      "cell_type": "markdown",
      "metadata": {
        "id": "0tkhm6EUaG1u"
      },
      "source": [
        "5 - Faça um programa para a leitura de duas notas parciais de um aluno. O programa deve calcular a média alcançada por aluno e apresentar:\n",
        "- A mensagem \"Aprovado\", se a média alcançada for maior ou igual a sete;\n",
        "- A mensagem \"Reprovado\", se a média for menor do que sete;\n",
        "- A mensagem \"Aprovado com Distinção\", se a média for igual a dez."
      ]
    },
    {
      "cell_type": "code",
      "metadata": {
        "id": "990mQ6UhdwKl"
      },
      "source": [
        ""
      ],
      "execution_count": null,
      "outputs": []
    },
    {
      "cell_type": "markdown",
      "metadata": {
        "id": "Lm1tOKThnU42"
      },
      "source": [
        "Exercícios adaptados de Python Brasil"
      ]
    }
  ]
}