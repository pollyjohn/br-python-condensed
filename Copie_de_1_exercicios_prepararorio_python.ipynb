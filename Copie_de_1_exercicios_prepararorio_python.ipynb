{
  "nbformat": 4,
  "nbformat_minor": 0,
  "metadata": {
    "colab": {
      "name": "Copie de 1 exercicios prepararorio python",
      "provenance": [],
      "collapsed_sections": [],
      "include_colab_link": true
    },
    "kernelspec": {
      "name": "python3",
      "display_name": "Python 3"
    }
  },
  "cells": [
    {
      "cell_type": "markdown",
      "metadata": {
        "id": "view-in-github",
        "colab_type": "text"
      },
      "source": [
        "<a href=\"https://colab.research.google.com/github/pollyjohn/br-python-condensed/blob/main/Copie_de_1_exercicios_prepararorio_python.ipynb\" target=\"_parent\"><img src=\"https://colab.research.google.com/assets/colab-badge.svg\" alt=\"Open In Colab\"/></a>"
      ]
    },
    {
      "cell_type": "markdown",
      "metadata": {
        "id": "8YqaSZgXYJ5g"
      },
      "source": [
        "![](https://i.imgur.com/YX6UATs.png)\n"
      ]
    },
    {
      "cell_type": "markdown",
      "metadata": {
        "id": "hhUVzDipaGb9"
      },
      "source": [
        "### **Exercícios de Python - 1** \n",
        "\n",
        "\n",
        "\n"
      ]
    },
    {
      "cell_type": "markdown",
      "metadata": {
        "id": "qMGp-h8OaGqr"
      },
      "source": [
        "1 - Faça um programa, com uma função que necessite de três argumentos, e que forneça a soma desses três argumentos."
      ]
    },
    {
      "cell_type": "code",
      "metadata": {
        "id": "kTg-D89NdCld"
      },
      "source": [
        "def soma(valor1, valor2, valor3):\n",
        "  valor1 = int(input(\"Informe o primeiro valor: \"))\n",
        "  valor2 = int(input(\"Informe o segundo valor: \"))\n",
        "  valor3 = int(input(\"Informe o terceiro valor: \"))  \n",
        "  resultado = valor1+valor2+valor3\n",
        "  return resultado  "
      ],
      "execution_count": null,
      "outputs": []
    },
    {
      "cell_type": "code",
      "metadata": {
        "colab": {
          "base_uri": "https://localhost:8080/"
        },
        "id": "E0_9okQgu4Yz",
        "outputId": "ec653e89-41e1-472a-c0eb-96c7989d19b5"
      },
      "source": [
        "soma(valor1, valor2, valor3)"
      ],
      "execution_count": null,
      "outputs": [
        {
          "output_type": "stream",
          "text": [
            "Informe o primeiro valor: 5\n",
            "Informe o segundo valor: 8\n",
            "Informe o terceiro valor: 5\n"
          ],
          "name": "stdout"
        },
        {
          "output_type": "execute_result",
          "data": {
            "text/plain": [
              "18"
            ]
          },
          "metadata": {
            "tags": []
          },
          "execution_count": 143
        }
      ]
    },
    {
      "cell_type": "markdown",
      "metadata": {
        "id": "KdLXZftIaG60"
      },
      "source": [
        "2 - Faça um Programa que peça a temperatura em graus Celsius, transforme e mostre em graus Fahrenheit. \\\n",
        "*Dica: procure a fórmula para essa conversão na internet*"
      ]
    },
    {
      "cell_type": "code",
      "metadata": {
        "id": "MNINJ32eU45M"
      },
      "source": [
        "def conversão_fahrenheit():\n",
        "  celsius = float(input('qual a temperatura em celsius?: '))\n",
        "  temperatura_fahrenheit = (celsius*9/5)+32\n",
        "  return temperatura_fahrenheit "
      ],
      "execution_count": null,
      "outputs": []
    },
    {
      "cell_type": "code",
      "metadata": {
        "colab": {
          "base_uri": "https://localhost:8080/"
        },
        "id": "YVRlKoGSv-le",
        "outputId": "aa4d8b4e-ac0f-4461-ee2e-e3ecfae32082"
      },
      "source": [
        "conversão_fahrenheit()"
      ],
      "execution_count": null,
      "outputs": [
        {
          "output_type": "stream",
          "text": [
            "qual a temperatura em celsius?: 38\n"
          ],
          "name": "stdout"
        },
        {
          "output_type": "execute_result",
          "data": {
            "text/plain": [
              "100.4"
            ]
          },
          "metadata": {
            "tags": []
          },
          "execution_count": 150
        }
      ]
    },
    {
      "cell_type": "markdown",
      "metadata": {
        "id": "4OETBVgmaGzX"
      },
      "source": [
        "3 - Faça um Programa que peça um número inteiro e determine se ele é par ou impar. Dica: utilize o operador módulo (resto da divisão)."
      ]
    },
    {
      "cell_type": "code",
      "metadata": {
        "id": "WbzCimFZVSr1"
      },
      "source": [
        "def par_ou_impar():\n",
        "  numero = int(input(\"qual o numero?\"))\n",
        "  resultado = numero % 2\n",
        "  if resultado == 0:\n",
        "    return ('Par')\n",
        "  else:\n",
        "      return ('impar')"
      ],
      "execution_count": null,
      "outputs": []
    },
    {
      "cell_type": "code",
      "metadata": {
        "colab": {
          "base_uri": "https://localhost:8080/",
          "height": 52
        },
        "id": "-WJoL__oyiQG",
        "outputId": "98ee87f3-8474-4371-a396-d6b2365649eb"
      },
      "source": [
        "par_ou_impar()\n"
      ],
      "execution_count": null,
      "outputs": [
        {
          "output_type": "stream",
          "text": [
            "qual o numero?4\n"
          ],
          "name": "stdout"
        },
        {
          "output_type": "execute_result",
          "data": {
            "application/vnd.google.colaboratory.intrinsic+json": {
              "type": "string"
            },
            "text/plain": [
              "'Par'"
            ]
          },
          "metadata": {
            "tags": []
          },
          "execution_count": 158
        }
      ]
    },
    {
      "cell_type": "markdown",
      "metadata": {
        "id": "7zPJ8sgPaGw0"
      },
      "source": [
        "4 - Faça um programa que peça o tamanho de um arquivo para download (em MB) e a velocidade de um link de Internet (em Mbps), calcule e informe o tempo aproximado de download do arquivo usando este link (em minutos)."
      ]
    },
    {
      "cell_type": "code",
      "metadata": {
        "id": "l4qtSxU7XquB"
      },
      "source": [
        "def velocidade_download():\n",
        "  arquivo = int(input('qual o tamanho do arquivo? '))\n",
        "  link = int(input(\"qual a velocidade de download desse link?\"))\n",
        "  tempo = round(arquivo/link/60,2)\n",
        "  return (f\"levará {tempo} minutos para baixar o arquivo\")"
      ],
      "execution_count": null,
      "outputs": []
    },
    {
      "cell_type": "code",
      "metadata": {
        "colab": {
          "base_uri": "https://localhost:8080/",
          "height": 69
        },
        "id": "QjVTl7q21hlp",
        "outputId": "b9eb6e75-ac08-479b-954a-a5d096984340"
      },
      "source": [
        "velocidade_download()"
      ],
      "execution_count": null,
      "outputs": [
        {
          "output_type": "stream",
          "text": [
            "qual o tamanho do arquivo? 500\n",
            "qual a velocidade de download desse link?10\n"
          ],
          "name": "stdout"
        },
        {
          "output_type": "execute_result",
          "data": {
            "application/vnd.google.colaboratory.intrinsic+json": {
              "type": "string"
            },
            "text/plain": [
              "'levará 0.83 minutos para baixar o arquivo'"
            ]
          },
          "metadata": {
            "tags": []
          },
          "execution_count": 194
        }
      ]
    },
    {
      "cell_type": "code",
      "metadata": {
        "colab": {
          "base_uri": "https://localhost:8080/"
        },
        "id": "_UMVvWvx48sh",
        "outputId": "ff909ffe-8ffb-4ab8-db66-17950604ac5f"
      },
      "source": [
        ""
      ],
      "execution_count": null,
      "outputs": [
        {
          "output_type": "execute_result",
          "data": {
            "text/plain": [
              "800.0"
            ]
          },
          "metadata": {
            "tags": []
          },
          "execution_count": 181
        }
      ]
    },
    {
      "cell_type": "markdown",
      "metadata": {
        "id": "0tkhm6EUaG1u"
      },
      "source": [
        "5 - Faça um programa para a leitura de duas notas parciais de um aluno. O programa deve calcular a média alcançada por aluno e apresentar:\n",
        "- A mensagem \"Aprovado\", se a média alcançada for maior ou igual a sete;\n",
        "- A mensagem \"Reprovado\", se a média for menor do que sete;\n",
        "- A mensagem \"Aprovado com Distinção\", se a média for igual a dez."
      ]
    },
    {
      "cell_type": "code",
      "metadata": {
        "id": "990mQ6UhdwKl"
      },
      "source": [
        "def media():\n",
        "  nota1 = float(input(\"nota do aluno na priemira avaliação:\"))\n",
        "  nota2 = float(input(\"nota do aluno na segunda avaliação:\"))\n",
        "  resultado = (nota1+nota2)/2\n",
        "  if resultado == 10:\n",
        "    print('aprovado com distinção')\n",
        "  elif resultado >= 7:\n",
        "    print('aprovado')\n",
        "  if resultado < 7:\n",
        "     print('reprovado')"
      ],
      "execution_count": null,
      "outputs": []
    },
    {
      "cell_type": "code",
      "metadata": {
        "colab": {
          "base_uri": "https://localhost:8080/"
        },
        "id": "lWZbPCWtBIRD",
        "outputId": "df228345-7f0a-4c9b-e749-68969749ffcf"
      },
      "source": [
        "media()"
      ],
      "execution_count": null,
      "outputs": [
        {
          "output_type": "stream",
          "text": [
            "nota do aluno na priemira avaliação:5\n",
            "nota do aluno na segunda avaliação:5\n",
            "reprovado\n"
          ],
          "name": "stdout"
        }
      ]
    },
    {
      "cell_type": "markdown",
      "metadata": {
        "id": "Lm1tOKThnU42"
      },
      "source": [
        "Exercícios adaptados de Python Brasil"
      ]
    }
  ]
}