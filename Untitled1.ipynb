{
  "nbformat": 4,
  "nbformat_minor": 0,
  "metadata": {
    "colab": {
      "name": "Untitled1.ipynb",
      "provenance": [],
      "collapsed_sections": [],
      "authorship_tag": "ABX9TyPmvyCCZBInoJjYVaaPZKGL",
      "include_colab_link": true
    },
    "kernelspec": {
      "name": "python3",
      "display_name": "Python 3"
    },
    "language_info": {
      "name": "python"
    }
  },
  "cells": [
    {
      "cell_type": "markdown",
      "metadata": {
        "id": "view-in-github",
        "colab_type": "text"
      },
      "source": [
        "<a href=\"https://colab.research.google.com/github/pollyjohn/br-python-condensed/blob/main/Untitled1.ipynb\" target=\"_parent\"><img src=\"https://colab.research.google.com/assets/colab-badge.svg\" alt=\"Open In Colab\"/></a>"
      ]
    },
    {
      "cell_type": "code",
      "metadata": {
        "id": "Is0TsVelyhB7"
      },
      "source": [
        "def passou_():\n",
        "  nota1 = input('qual foi sua nota?')\n",
        "  nota2 = input('qual foi sua nota?')\n",
        "  resultado_final = int(nota1)/2+ int(nota2)/2\n",
        "  if resultado_final == 7:\n",
        "    print ('vc ficou na média')\n",
        "  elif resultado_final < 7:\n",
        "    print ('vc reprovoou')\n",
        "  else:\n",
        "    print ('vc passou')"
      ],
      "execution_count": 47,
      "outputs": []
    },
    {
      "cell_type": "code",
      "metadata": {
        "colab": {
          "base_uri": "https://localhost:8080/"
        },
        "id": "zzVg4uq4ytzf",
        "outputId": "b40dadb5-be02-4aba-d49f-f1cf94dc6602"
      },
      "source": [
        "passou_()"
      ],
      "execution_count": 48,
      "outputs": [
        {
          "output_type": "stream",
          "text": [
            "qual foi sua nota?8\n",
            "qual foi sua nota?8\n",
            "vc passou\n"
          ],
          "name": "stdout"
        }
      ]
    },
    {
      "cell_type": "code",
      "metadata": {
        "id": "eulSewky9GBc"
      },
      "source": [
        "def imc_resultado():\n",
        "  nome = input('diga-nos seu nome')\n",
        "  altura = input('qual é a sua altura?')\n",
        "  peso = input('qual é o seu peso?')\n",
        "  imc_resultado =  round(float(peso)/float(altura)**2,2)\n",
        "  if imc_resultado > 25:\n",
        "    return (f'olá {nome}.Seu imc é de {imc_resultado}.você precisa ter atos mais saudaveis')\n",
        "  else:\n",
        "    return (f'parabéns {nome} . continue assim')"
      ],
      "execution_count": 64,
      "outputs": []
    },
    {
      "cell_type": "code",
      "metadata": {
        "colab": {
          "base_uri": "https://localhost:8080/",
          "height": 86
        },
        "id": "s0w2BhGhBn4A",
        "outputId": "f1953861-c048-4f59-88f2-942215808a17"
      },
      "source": [
        "imc_resultado()"
      ],
      "execution_count": 66,
      "outputs": [
        {
          "output_type": "stream",
          "text": [
            "diga-nos seu nomefabiano\n",
            "qual é a sua altura?1.60\n",
            "qual é o seu peso?90\n"
          ],
          "name": "stdout"
        },
        {
          "output_type": "execute_result",
          "data": {
            "application/vnd.google.colaboratory.intrinsic+json": {
              "type": "string"
            },
            "text/plain": [
              "'olá fabiano.Seu imc é de 35.16.você precisa ter atos mais saudaveis'"
            ]
          },
          "metadata": {
            "tags": []
          },
          "execution_count": 66
        }
      ]
    }
  ]
}